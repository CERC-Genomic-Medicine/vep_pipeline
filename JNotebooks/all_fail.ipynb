{
 "cells": [
  {
   "cell_type": "code",
   "execution_count": null,
   "id": "e36cd750-4317-4cd2-84ab-4941f1e0edc8",
   "metadata": {
    "tags": []
   },
   "outputs": [],
   "source": [
    "import pandas as pd\n"
   ]
  },
  {
   "cell_type": "code",
   "execution_count": null,
   "id": "d5b63df5-d9c2-4fe4-925a-2af6c539c0ff",
   "metadata": {
    "tags": []
   },
   "outputs": [],
   "source": [
    "grouped_coding_consequences = {\n",
    "    'all': [ 'synonymous_variant', 'stop_retained_variant', 'start_retained_variant', 'missense_variant', 'stop_gained', 'stop_lost', 'start_lost',\n",
    "        'splice_acceptor_variant', 'splice_donor_variant', 'frameshift_variant', 'inframe_insertion', 'inframe_deletion',\n",
    "        'protein_altering_variant', 'incomplete_terminal_codon_variant', 'coding_sequence_variant' ],\n",
    "    'synonymous':  ['synonymous_variant', 'stop_retained_variant', 'start_retained_variant'],\n",
    "    'non-synonymous':  ['missense_variant', 'stop_gained', 'stop_lost', 'start_lost'],\n",
    "    'splice': ['splice_acceptor_variant', 'splice_donor_variant'],\n",
    "    'frameshift':  ['frameshift_variant'],\n",
    "    'inframe':  ['inframe_insertion', 'inframe_deletion']\n",
    "}\n",
    "\n",
    "grouped_noncoding_consequences = {\n",
    "    'all': [ '3_prime_UTR_variant', '5_prime_UTR_variant', 'NMD_transcript_variant', 'TFBS_ablation', 'TFBS_amplification',\n",
    "        'TF_binding_site_variant', 'downstream_gene_variant', 'feature_elongation', 'feature_truncation', 'intergenic_variant',\n",
    "        'intron_variant', 'mature_miRNA_variant', 'non_coding_transcript_exon_variant', 'non_coding_transcript_variant',\n",
    "        'regulatory_region_ablation', 'regulatory_region_amplification', 'regulatory_region_variant', 'splice_region_variant',\n",
    "        'transcript_ablation', 'transcript_amplification', 'upstream_gene_variant'],\n",
    "    '3_prime_UTR_variant': ['3_prime_UTR_variant'],\n",
    "    '5_prime_UTR_variant': ['5_prime_UTR_variant'],\n",
    "    'intron_variant': ['intron_variant', 'splice_region_variant'],\n",
    "    'intergenic': ['downstream_gene_variant', 'upstream_gene_variant', 'intergenic_variant'],\n",
    "    'regulatory': ['TFBS_ablation', 'TFBS_amplification', 'TF_binding_site_variant', \n",
    "                   'regulatory_region_variant', 'regulatory_region_ablation', 'regulatory_region_amplification'],\n",
    "}\n"
   ]
  },
  {
   "cell_type": "code",
   "execution_count": null,
   "id": "ac0a5df3-597d-46c9-8e26-fda9ef54ec99",
   "metadata": {},
   "outputs": [],
   "source": [
    "FILTER = 'FAIL'\n",
    "# chromosomes = [f'{i}' for i in range(1, 23)]\n",
    "chromosomes = [f'{i}' for i in range(1, 23)] + ['X']"
   ]
  },
  {
   "cell_type": "code",
   "execution_count": null,
   "id": "2c5cb927-aa24-4729-8226-742c00c48f4b",
   "metadata": {
    "tags": []
   },
   "outputs": [],
   "source": [
    "filenames = [f'chr{c}.summary.txt' for c in chromosomes]\n",
    "\n",
    "summary = []\n",
    "for filename in filenames:\n",
    "    summary.append(pd.read_csv(filename, sep = '\\t'))\n",
    "summary = pd.concat(summary)\n",
    "summary = summary.groupby(['FILTER', 'VARIANT_TYPE', 'CONTEXT_TYPE', 'CONSEQUENCE', 'COUNT']).sum().reset_index()\n"
   ]
  },
  {
   "cell_type": "markdown",
   "id": "f09463ad-51a7-4cc3-9bf4-e9d848b10fbc",
   "metadata": {
    "tags": []
   },
   "source": [
    "\n",
    "## 1. Variants genome-wide\n",
    "---"
   ]
  },
  {
   "cell_type": "code",
   "execution_count": null,
   "id": "bed1fad3-d4e5-44f9-b6c6-a81d86d09a69",
   "metadata": {
    "tags": []
   },
   "outputs": [],
   "source": [
    "index = []\n",
    "counts = []\n",
    "\n",
    "for variant_type in ['ALL', 'SNV', 'INDEL']:\n",
    "    index.append(variant_type)\n",
    "    df_n = summary[\n",
    "        (summary.FILTER == FILTER) & \n",
    "        (summary.VARIANT_TYPE == variant_type) &\n",
    "        (summary.CONTEXT_TYPE == 'ALL') &\n",
    "        (summary.CONSEQUENCE == 'ALL') & \n",
    "        (summary.COUNT == 'N')]\n",
    "    df_cpg = summary[\n",
    "        (summary.FILTER == FILTER) & \n",
    "        (summary.VARIANT_TYPE == variant_type) &\n",
    "        (summary.CONTEXT_TYPE == 'ALL') &\n",
    "        (summary.CONSEQUENCE == 'ALL') & \n",
    "        (summary.COUNT == 'CpG')]\n",
    "    df_ts = summary[\n",
    "        (summary.FILTER == FILTER) & \n",
    "        (summary.VARIANT_TYPE == variant_type) &\n",
    "        (summary.CONTEXT_TYPE == 'ALL') &\n",
    "        (summary.CONSEQUENCE == 'ALL') & \n",
    "        (summary.COUNT == 'TS')]\n",
    "        \n",
    "    counts.append([\n",
    "        df_n.ALL.values[0],\n",
    "        df_n.SINGLETONS.values[0] / df_n.ALL.values[0] * 100,\n",
    "        df_cpg.ALL.values[0] / df_n.ALL.values[0] * 100 if len(df_cpg) > 0 else None,\n",
    "        df_ts.ALL.values[0] / (df_n.ALL.values[0] - df_ts.ALL.values[0]) if len(df_ts) > 0 else None,\n",
    "        df_ts.SINGLETONS.values[0] / (df_n.SINGLETONS.values[0] - df_ts.SINGLETONS.values[0]) if len(df_ts) > 0 else None,\n",
    "        \n",
    "        df_n.ALL_NOVEL.values[0],\n",
    "        df_n.SINGLETONS_NOVEL.values[0] / df_n.ALL_NOVEL.values[0] * 100,\n",
    "        df_cpg.ALL_NOVEL.values[0] / df_n.ALL_NOVEL.values[0] * 100 if len(df_cpg) > 0 else None,\n",
    "        df_ts.ALL_NOVEL.values[0] / (df_n.ALL_NOVEL.values[0] - df_ts.ALL_NOVEL.values[0]) if len(df_ts) > 0 else None,\n",
    "        df_ts.SINGLETONS_NOVEL.values[0] / (df_n.SINGLETONS_NOVEL.values[0] - df_ts.SINGLETONS_NOVEL.values[0]) if len(df_ts) > 0 else None,\n",
    "        \n",
    "        df_n.ALL_KNOWN.values[0],\n",
    "        df_n.SINGLETONS_KNOWN.values[0] / df_n.ALL_KNOWN.values[0] * 100,\n",
    "        df_cpg.ALL_KNOWN.values[0] / df_n.ALL_KNOWN.values[0] * 100 if len(df_cpg) > 0 else None,\n",
    "        df_ts.ALL_KNOWN.values[0] / (df_n.ALL_KNOWN.values[0] - df_ts.ALL_KNOWN.values[0]) if len(df_ts) > 0 else None,\n",
    "        df_ts.SINGLETONS_KNOWN.values[0] / (df_n.SINGLETONS_KNOWN.values[0] - df_ts.SINGLETONS_KNOWN.values[0]) if len(df_ts) > 0 else None,\n",
    "    ])\n",
    "    \n",
    "df = pd.DataFrame(counts,\n",
    "    index=pd.Index(index, name='Variants'),\n",
    "    columns=pd.MultiIndex.from_product([\n",
    "        ['All', 'Novel', 'In dbSNP'], ['N', '% singletons', '% CpG', 'TsTv', 'TsTv singletons']], names=['', '']))\n",
    "\n",
    "df.style.format(formatter = {('All', 'N'): '{:,.0f}', \n",
    "                             ('All', '% singletons'): '{:.1f}',\n",
    "                             ('All', '% CpG'): '{:.1f}',\n",
    "                             ('All', 'TsTv'): '{:.1f}',\n",
    "                             ('All', 'TsTv singletons'): '{:.1f}',\n",
    "                             ('Novel', 'N'): '{:,.0f}', \n",
    "                             ('Novel', '% singletons'): '{:.1f}',\n",
    "                             ('Novel', '% CpG'): '{:.1f}',\n",
    "                             ('Novel', 'TsTv'): '{:.1f}',\n",
    "                             ('Novel', 'TsTv singletons'): '{:.1f}',\n",
    "                             ('In dbSNP', 'N'): '{:,.0f}',\n",
    "                             ('In dbSNP', '% singletons'): '{:,.1f}',\n",
    "                             ('In dbSNP', '% CpG'): '{:,.1f}',\n",
    "                             ('In dbSNP', 'TsTv'): '{:.1f}',\n",
    "                             ('In dbSNP', 'TsTv singletons'): '{:.1f}',\n",
    "                            })\n"
   ]
  },
  {
   "cell_type": "markdown",
   "id": "14279906-1176-41d9-8e1e-8c5e59a5fbcb",
   "metadata": {},
   "source": [
    "\n",
    "## 2. Variants in protein coding genes\n",
    "---\n",
    "### 2.1. Variants inside CDS"
   ]
  },
  {
   "cell_type": "code",
   "execution_count": null,
   "id": "a25ddaa7-884d-4f62-ada2-2aa756c54f97",
   "metadata": {
    "tags": [
     "no_html"
    ]
   },
   "outputs": [],
   "source": [
    "index = []\n",
    "counts = []\n",
    "for group, consequences in grouped_coding_consequences.items():\n",
    "    df = summary[\n",
    "        (summary.FILTER == FILTER) & \n",
    "        (summary.VARIANT_TYPE == 'ALL') & \n",
    "        (summary.CONTEXT_TYPE == 'CODING') & \n",
    "        (summary.CONSEQUENCE.isin(consequences)) & \n",
    "        (summary.COUNT == 'N')].groupby(['FILTER', 'VARIANT_TYPE', 'CONTEXT_TYPE', 'COUNT']).sum().reset_index()\n",
    "    index.append(group)\n",
    "    counts.append([\n",
    "    df.ALL.values[0],\n",
    "    round(df.SINGLETONS.values[0] / df.ALL.values[0] * 100, 1),\n",
    "    df.ALL_NOVEL.values[0],\n",
    "    round(df.SINGLETONS_NOVEL.values[0] / df.ALL_NOVEL.values[0] * 100, 1),\n",
    "    df.ALL_KNOWN.values[0],\n",
    "    round(df.SINGLETONS_KNOWN.values[0] / df.ALL_KNOWN.values[0] * 100, 1)])\n",
    "\n",
    "df = pd.DataFrame(counts,\n",
    "    index=pd.Index(index, name='Variants'),\n",
    "    columns=pd.MultiIndex.from_product([['All', 'Novel', 'In dbSNP'], ['N', '% singletons']], names=['', '']))\n",
    "\n",
    "df.style.format(formatter = {('All', 'N'): '{:,.0f}', \n",
    "                             ('All', '% singletons'): '{:.1f}',\n",
    "                             ('Novel', 'N'): '{:,.0f}', \n",
    "                             ('Novel', '% singletons'): '{:.1f}',\n",
    "                             ('In dbSNP', 'N'): '{:,.0f}',\n",
    "                             ('In dbSNP', '% singletons'): '{:,.1f}',\n",
    "                            })"
   ]
  },
  {
   "cell_type": "markdown",
   "id": "045138ce-f798-457a-8822-a9824692779c",
   "metadata": {},
   "source": [
    "### 2.2. SNVs inside CDS"
   ]
  },
  {
   "cell_type": "code",
   "execution_count": null,
   "id": "f40e8533-e034-44bb-987d-50b5a20ac686",
   "metadata": {
    "tags": [
     "no_html"
    ]
   },
   "outputs": [],
   "source": [
    "index = []\n",
    "counts = []\n",
    "for group, consequences in grouped_coding_consequences.items():\n",
    "    df_n = summary[\n",
    "        (summary.FILTER == FILTER) & \n",
    "        (summary.VARIANT_TYPE == 'SNV') & \n",
    "        (summary.CONTEXT_TYPE == 'CODING') & \n",
    "        (summary.CONSEQUENCE.isin(consequences)) & \n",
    "        (summary.COUNT == 'N')].groupby(['FILTER', 'VARIANT_TYPE', 'CONTEXT_TYPE', 'COUNT']).sum().reset_index()\n",
    "    df_cpg = summary[\n",
    "        (summary.FILTER == FILTER) & \n",
    "        (summary.VARIANT_TYPE == 'SNV') & \n",
    "        (summary.CONTEXT_TYPE == 'CODING') & \n",
    "        (summary.CONSEQUENCE.isin(consequences)) & \n",
    "        (summary.COUNT == 'CpG')].groupby(['FILTER', 'VARIANT_TYPE', 'CONTEXT_TYPE', 'COUNT']).sum().reset_index()\n",
    "    df_ts = summary[\n",
    "        (summary.FILTER == FILTER) & \n",
    "        (summary.VARIANT_TYPE == 'SNV') & \n",
    "        (summary.CONTEXT_TYPE == 'CODING') & \n",
    "        (summary.CONSEQUENCE.isin(consequences)) & \n",
    "        (summary.COUNT == 'TS')].groupby(['FILTER', 'VARIANT_TYPE', 'CONTEXT_TYPE', 'COUNT']).sum().reset_index()\n",
    "    \n",
    "    if df_n.ALL.values[0] == 0:\n",
    "        continue\n",
    "    \n",
    "    index.append(group)\n",
    "    counts.append([\n",
    "        df_n.ALL.values[0],\n",
    "        df_n.SINGLETONS.values[0] / df_n.ALL.values[0] * 100,\n",
    "        df_cpg.ALL.values[0] / df_n.ALL.values[0] * 100 if len(df_cpg) > 0 else None,\n",
    "        df_ts.ALL.values[0] / (df_n.ALL.values[0] - df_ts.ALL.values[0]),\n",
    "        df_ts.SINGLETONS.values[0] / (df_n.SINGLETONS.values[0] - df_ts.SINGLETONS.values[0]),\n",
    "\n",
    "        df_n.ALL_NOVEL.values[0],\n",
    "        df_n.SINGLETONS_NOVEL.values[0] / df_n.ALL_NOVEL.values[0] * 100,\n",
    "        df_cpg.ALL_NOVEL.values[0] / df_n.ALL_NOVEL.values[0] * 100 if len(df_cpg) > 0 else None,\n",
    "        df_ts.ALL_NOVEL.values[0] / (df_n.ALL_NOVEL.values[0] - df_ts.ALL_NOVEL.values[0]),\n",
    "        df_ts.SINGLETONS_NOVEL.values[0] / (df_n.SINGLETONS_NOVEL.values[0] - df_ts.SINGLETONS_NOVEL.values[0]),\n",
    "\n",
    "        df_n.ALL_KNOWN.values[0],\n",
    "        df_n.SINGLETONS_KNOWN.values[0] / df_n.ALL_KNOWN.values[0] * 100,\n",
    "        df_cpg.ALL_KNOWN.values[0] / df_n.ALL_KNOWN.values[0] * 100 if len(df_cpg) > 0 else None,\n",
    "        df_ts.ALL_KNOWN.values[0] / (df_n.ALL_KNOWN.values[0] - df_ts.ALL_KNOWN.values[0]),\n",
    "        df_ts.SINGLETONS_KNOWN.values[0] / (df_n.SINGLETONS_KNOWN.values[0] - df_ts.SINGLETONS_KNOWN.values[0]),\n",
    "    ])\n",
    "\n",
    "df = pd.DataFrame(counts,\n",
    "    index=pd.Index(index, name='SNVs'),\n",
    "    columns=pd.MultiIndex.from_product([\n",
    "        ['All', 'Novel', 'In dbSNP'], \n",
    "        ['N', '% singletons', '% CpG', 'TsTv', 'TsTv singletons']], names=['', '']))\n",
    "\n",
    "df.style.format(formatter = {('All', 'N'): '{:,.0f}', \n",
    "                             ('All', '% singletons'): '{:.1f}',\n",
    "                             ('All', '% CpG'): '{:.1f}',\n",
    "                             ('All', 'TsTv'): '{:.1f}',\n",
    "                             ('All', 'TsTv singletons'): '{:.1f}',\n",
    "                             ('Novel', 'N'): '{:,.0f}', \n",
    "                             ('Novel', '% singletons'): '{:.1f}',\n",
    "                             ('Novel', '% CpG'): '{:.1f}',\n",
    "                             ('Novel', 'TsTv'): '{:.1f}',\n",
    "                             ('Novel', 'TsTv singletons'): '{:.1f}',\n",
    "                             ('In dbSNP', 'N'): '{:,.0f}',\n",
    "                             ('In dbSNP', '% singletons'): '{:,.1f}',\n",
    "                             ('In dbSNP', '% CpG'): '{:,.1f}',\n",
    "                             ('In dbSNP', 'TsTv'): '{:.1f}',\n",
    "                             ('In dbSNP', 'TsTv singletons'): '{:.1f}',\n",
    "                            })"
   ]
  },
  {
   "cell_type": "markdown",
   "id": "b2490528-381a-490c-bdc6-3e5e59df4052",
   "metadata": {},
   "source": [
    "### 2.3 Variants outside CDS"
   ]
  },
  {
   "cell_type": "code",
   "execution_count": null,
   "id": "b60ed0ee-78f6-46a5-8dcc-40e1b5c32d23",
   "metadata": {
    "tags": [
     "no_html"
    ]
   },
   "outputs": [],
   "source": [
    "index = []\n",
    "counts = []\n",
    "for group, consequences in grouped_noncoding_consequences.items():\n",
    "    df = summary[\n",
    "        (summary.FILTER == FILTER) & \n",
    "        (summary.VARIANT_TYPE == 'ALL') & \n",
    "        (summary.CONTEXT_TYPE == 'CODING') & \n",
    "        (summary.CONSEQUENCE.isin(consequences)) & \n",
    "        (summary.COUNT == 'N')].groupby(['FILTER', 'VARIANT_TYPE', 'CONTEXT_TYPE', 'COUNT']).sum().reset_index()\n",
    "    if df.ALL.values[0] > 0:\n",
    "        index.append(group)\n",
    "        counts.append([\n",
    "            df.ALL.values[0],\n",
    "            round(df.SINGLETONS.values[0] / df.ALL.values[0] * 100, 1),\n",
    "            df.ALL_NOVEL.values[0],\n",
    "            round(df.SINGLETONS_NOVEL.values[0] / df.ALL_NOVEL.values[0] * 100, 1),\n",
    "            df.ALL_KNOWN.values[0],\n",
    "            round(df.SINGLETONS_KNOWN.values[0] / df.ALL_KNOWN.values[0] * 100, 1)])\n",
    "\n",
    "df = pd.DataFrame(counts,\n",
    "    index=pd.Index(index, name='Variants'),\n",
    "    columns=pd.MultiIndex.from_product([['All', 'Novel', 'In dbSNP'], ['N', 'Singletons (%)']], names=['', '']))\n",
    "\n",
    "df.style.format(formatter = {('All', 'N'): '{:,.0f}', \n",
    "                             ('All', 'Singletons (%)'): '{:.1f}',\n",
    "                             ('Novel', 'N'): '{:,.0f}', \n",
    "                             ('Novel', 'Singletons (%)'): '{:.1f}',\n",
    "                             ('In dbSNP', 'N'): '{:,.0f}',\n",
    "                             ('In dbSNP', 'Singletons (%)'): '{:,.1f}',\n",
    "                            })"
   ]
  },
  {
   "cell_type": "markdown",
   "id": "a4523550-3114-46ed-a3ea-3cdc1430453f",
   "metadata": {},
   "source": [
    "\n",
    "## 3. Variants in other genes\n",
    "---\n",
    "### 3.1. Variants inside CDS"
   ]
  },
  {
   "cell_type": "code",
   "execution_count": null,
   "id": "b1f08b3d-1d23-40d7-8c9c-7fa9a0d6961d",
   "metadata": {
    "tags": [
     "no_html"
    ]
   },
   "outputs": [],
   "source": [
    "index = []\n",
    "counts = []\n",
    "for group, consequences in grouped_coding_consequences.items():\n",
    "    df = summary[\n",
    "        (summary.FILTER == FILTER) & \n",
    "        (summary.VARIANT_TYPE == 'ALL') & \n",
    "        (summary.CONTEXT_TYPE == 'NONCODING') & \n",
    "        (summary.CONSEQUENCE.isin(consequences)) & \n",
    "        (summary.COUNT == 'N')].groupby(['FILTER', 'VARIANT_TYPE', 'CONTEXT_TYPE', 'COUNT']).sum().reset_index()\n",
    "\n",
    "    index.append(group)\n",
    "    counts.append([\n",
    "    df.ALL.values[0],\n",
    "    round(df.SINGLETONS.values[0] / df.ALL.values[0] * 100, 1),\n",
    "    df.ALL_NOVEL.values[0],\n",
    "    round(df.SINGLETONS_NOVEL.values[0] / df.ALL_NOVEL.values[0] * 100, 1),\n",
    "    df.ALL_KNOWN.values[0],\n",
    "    round(df.SINGLETONS_KNOWN.values[0] / df.ALL_KNOWN.values[0] * 100, 1)])\n",
    "\n",
    "df = pd.DataFrame(counts,\n",
    "    index=pd.Index(index, name='Variants'),\n",
    "    columns=pd.MultiIndex.from_product([['All', 'Novel', 'In dbSNP'], ['N', 'Singletons (%)']], names=['', '']))\n",
    "\n",
    "df.style.format(formatter = {('All', 'N'): '{:,.0f}', \n",
    "                             ('All', 'Singletons (%)'): '{:.1f}',\n",
    "                             ('Novel', 'N'): '{:,.0f}', \n",
    "                             ('Novel', 'Singletons (%)'): '{:.1f}',\n",
    "                             ('In dbSNP', 'N'): '{:,.0f}',\n",
    "                             ('In dbSNP', 'Singletons (%)'): '{:,.1f}',\n",
    "                            })\n"
   ]
  },
  {
   "cell_type": "markdown",
   "id": "1678200a-a995-4c9e-b4eb-11d02d67cfd5",
   "metadata": {},
   "source": [
    "### 3.2 Variants outside CDS"
   ]
  },
  {
   "cell_type": "code",
   "execution_count": null,
   "id": "52ceb99d-b64c-4f21-a5e8-4d7bc4e7dadb",
   "metadata": {
    "tags": [
     "no_html"
    ]
   },
   "outputs": [],
   "source": [
    "index = []\n",
    "counts = []\n",
    "for group, consequences in grouped_noncoding_consequences.items():\n",
    "    df = summary[\n",
    "        (summary.FILTER == FILTER) & \n",
    "        (summary.VARIANT_TYPE == 'ALL') & \n",
    "        (summary.CONTEXT_TYPE == 'NONCODING') & \n",
    "        (summary.CONSEQUENCE.isin(consequences)) & \n",
    "        (summary.COUNT == 'N')].groupby(['FILTER', 'VARIANT_TYPE', 'CONTEXT_TYPE', 'COUNT']).sum().reset_index()\n",
    "\n",
    "    if (df.ALL.values[0] > 0):\n",
    "        index.append(group)\n",
    "        counts.append([\n",
    "            df.ALL.values[0],\n",
    "            round(df.SINGLETONS.values[0] / df.ALL.values[0] * 100, 1),\n",
    "            df.ALL_NOVEL.values[0],\n",
    "            round(df.SINGLETONS_NOVEL.values[0] / df.ALL_NOVEL.values[0] * 100, 1),\n",
    "            df.ALL_KNOWN.values[0],\n",
    "            round(df.SINGLETONS_KNOWN.values[0] / df.ALL_KNOWN.values[0] * 100, 1)])\n",
    "\n",
    "df = pd.DataFrame(counts,\n",
    "    index=pd.Index(index, name='Variants'),\n",
    "    columns=pd.MultiIndex.from_product([['All', 'Novel', 'In dbSNP'], ['N', 'Singletons (%)']], names=['', '']))\n",
    "\n",
    "df.style.format(formatter = {('All', 'N'): '{:,.0f}', \n",
    "                             ('All', 'Singletons (%)'): '{:.1f}',\n",
    "                             ('Novel', 'N'): '{:,.0f}', \n",
    "                             ('Novel', 'Singletons (%)'): '{:.1f}',\n",
    "                             ('In dbSNP', 'N'): '{:,.0f}',\n",
    "                             ('In dbSNP', 'Singletons (%)'): '{:,.1f}',\n",
    "                            })"
   ]
  },
  {
   "cell_type": "markdown",
   "id": "f6237dfa-f330-4942-a957-662010e89a43",
   "metadata": {},
   "source": [
    "\n",
    "## 3. Variants in intergenic regions\n",
    "---"
   ]
  },
  {
   "cell_type": "code",
   "execution_count": null,
   "id": "1446aece-58e7-41ee-8283-61bc0900327f",
   "metadata": {
    "tags": [
     "no_html"
    ]
   },
   "outputs": [],
   "source": [
    "index = []\n",
    "counts = []\n",
    "for group, consequences in grouped_noncoding_consequences.items():\n",
    "    df = summary[\n",
    "        (summary.FILTER == FILTER) & \n",
    "        (summary.VARIANT_TYPE == 'ALL') & \n",
    "        (summary.CONTEXT_TYPE == 'INTERGENIC') & \n",
    "        (summary.CONSEQUENCE.isin(consequences)) & \n",
    "        (summary.COUNT == 'N')].groupby(['FILTER', 'VARIANT_TYPE', 'CONTEXT_TYPE', 'COUNT']).sum().reset_index()\n",
    "\n",
    "    if (df.ALL.values[0] > 0):\n",
    "        index.append(group)\n",
    "        counts.append([\n",
    "            df.ALL.values[0],\n",
    "            round(df.SINGLETONS.values[0] / df.ALL.values[0] * 100, 1),\n",
    "            df.ALL_NOVEL.values[0],\n",
    "            round(df.SINGLETONS_NOVEL.values[0] / df.ALL_NOVEL.values[0] * 100, 1),\n",
    "            df.ALL_KNOWN.values[0],\n",
    "            round(df.SINGLETONS_KNOWN.values[0] / df.ALL_KNOWN.values[0] * 100, 1)])\n",
    "\n",
    "df = pd.DataFrame(counts,\n",
    "    index=pd.Index(index, name='Variants'),\n",
    "    columns=pd.MultiIndex.from_product([['All', 'Novel', 'In dbSNP'], ['N', 'Singletons (%)']], names=['', '']))\n",
    "\n",
    "df.style.format(formatter = {('All', 'N'): '{:,.0f}', \n",
    "                             ('All', 'Singletons (%)'): '{:.1f}',\n",
    "                             ('Novel', 'N'): '{:,.0f}', \n",
    "                             ('Novel', 'Singletons (%)'): '{:.1f}',\n",
    "                             ('In dbSNP', 'N'): '{:,.0f}',\n",
    "                             ('In dbSNP', 'Singletons (%)'): '{:,.1f}',\n",
    "                            })"
   ]
  }
 ],
 "metadata": {
  "kernelspec": {
   "display_name": "Python 3.8",
   "language": "python",
   "name": "python3"
  },
  "language_info": {
   "codemirror_mode": {
    "name": "ipython",
    "version": 3
   },
   "file_extension": ".py",
   "mimetype": "text/x-python",
   "name": "python",
   "nbconvert_exporter": "python",
   "pygments_lexer": "ipython3",
   "version": "3.8.2"
  }
 },
 "nbformat": 4,
 "nbformat_minor": 5
}
